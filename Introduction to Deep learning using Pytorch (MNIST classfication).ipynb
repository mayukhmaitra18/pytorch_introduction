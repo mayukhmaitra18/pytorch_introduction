{
 "cells": [
  {
   "cell_type": "code",
   "execution_count": 8,
   "metadata": {},
   "outputs": [],
   "source": [
    "import torch\n",
    "import torchvision\n",
    "from torchvision import transforms, datasets"
   ]
  },
  {
   "cell_type": "code",
   "execution_count": 2,
   "metadata": {},
   "outputs": [],
   "source": [
    "x = torch.zeros([2,5])"
   ]
  },
  {
   "cell_type": "code",
   "execution_count": 3,
   "metadata": {},
   "outputs": [
    {
     "name": "stdout",
     "output_type": "stream",
     "text": [
      "tensor([[0., 0., 0., 0., 0.],\n",
      "        [0., 0., 0., 0., 0.]])\n"
     ]
    }
   ],
   "source": [
    "print(x)"
   ]
  },
  {
   "cell_type": "code",
   "execution_count": 4,
   "metadata": {},
   "outputs": [
    {
     "data": {
      "text/plain": [
       "torch.Size([2, 5])"
      ]
     },
     "execution_count": 4,
     "metadata": {},
     "output_type": "execute_result"
    }
   ],
   "source": [
    "x.shape"
   ]
  },
  {
   "cell_type": "code",
   "execution_count": 5,
   "metadata": {},
   "outputs": [
    {
     "data": {
      "text/plain": [
       "tensor([[0.8007, 0.5176, 0.7638, 0.1204, 0.2922],\n",
       "        [0.9587, 0.8376, 0.8036, 0.3869, 0.1507]])"
      ]
     },
     "execution_count": 5,
     "metadata": {},
     "output_type": "execute_result"
    }
   ],
   "source": [
    "y = torch.rand([2,5])\n",
    "y"
   ]
  },
  {
   "cell_type": "code",
   "execution_count": 6,
   "metadata": {},
   "outputs": [
    {
     "data": {
      "text/plain": [
       "tensor([[0.8007, 0.5176, 0.7638, 0.1204, 0.2922, 0.9587, 0.8376, 0.8036, 0.3869,\n",
       "         0.1507]])"
      ]
     },
     "execution_count": 6,
     "metadata": {},
     "output_type": "execute_result"
    }
   ],
   "source": [
    "#reshaping\n",
    "#flattening\n",
    "\n",
    "y = y.view([1,10])\n",
    "y"
   ]
  },
  {
   "cell_type": "code",
   "execution_count": 9,
   "metadata": {},
   "outputs": [
    {
     "name": "stderr",
     "output_type": "stream",
     "text": [
      "0.1%"
     ]
    },
    {
     "name": "stdout",
     "output_type": "stream",
     "text": [
      "Downloading http://yann.lecun.com/exdb/mnist/train-images-idx3-ubyte.gz to MNIST/raw/train-images-idx3-ubyte.gz\n"
     ]
    },
    {
     "name": "stderr",
     "output_type": "stream",
     "text": [
      "100.1%"
     ]
    },
    {
     "name": "stdout",
     "output_type": "stream",
     "text": [
      "Extracting MNIST/raw/train-images-idx3-ubyte.gz to MNIST/raw\n"
     ]
    },
    {
     "name": "stderr",
     "output_type": "stream",
     "text": [
      "2.5%5%"
     ]
    },
    {
     "name": "stdout",
     "output_type": "stream",
     "text": [
      "Downloading http://yann.lecun.com/exdb/mnist/train-labels-idx1-ubyte.gz to MNIST/raw/train-labels-idx1-ubyte.gz\n",
      "Extracting MNIST/raw/train-labels-idx1-ubyte.gz to MNIST/raw\n",
      "Downloading http://yann.lecun.com/exdb/mnist/t10k-images-idx3-ubyte.gz to MNIST/raw/t10k-images-idx3-ubyte.gz\n"
     ]
    },
    {
     "name": "stderr",
     "output_type": "stream",
     "text": [
      "180.4%../torch/csrc/utils/tensor_numpy.cpp:141: UserWarning: The given NumPy array is not writeable, and PyTorch does not support non-writeable tensors. This means you can write to the underlying (supposedly non-writeable) NumPy array using the tensor. You may want to copy the array to protect its data or make it writeable before converting it to a tensor. This type of warning will be suppressed for the rest of this program.\n"
     ]
    },
    {
     "name": "stdout",
     "output_type": "stream",
     "text": [
      "Extracting MNIST/raw/t10k-images-idx3-ubyte.gz to MNIST/raw\n",
      "Downloading http://yann.lecun.com/exdb/mnist/t10k-labels-idx1-ubyte.gz to MNIST/raw/t10k-labels-idx1-ubyte.gz\n",
      "Extracting MNIST/raw/t10k-labels-idx1-ubyte.gz to MNIST/raw\n",
      "Processing...\n",
      "Done!\n"
     ]
    }
   ],
   "source": [
    "train = datasets.MNIST(\"\",train=True, download = True, transform = transforms.Compose([transforms.ToTensor()]))\n",
    "\n",
    "\n",
    "test = datasets.MNIST(\"\",train=False, download = True, transform = transforms.Compose([transforms.ToTensor()]))"
   ]
  },
  {
   "cell_type": "code",
   "execution_count": 10,
   "metadata": {},
   "outputs": [],
   "source": [
    "trainset = torch.utils.data.DataLoader(train, batch_size = 10, shuffle = True)\n",
    "#batch - how many items at a time do we pass to a model\n",
    "\n",
    "\n",
    "testset = torch.utils.data.DataLoader(test, batch_size = 10, shuffle = True)"
   ]
  },
  {
   "cell_type": "code",
   "execution_count": 11,
   "metadata": {},
   "outputs": [
    {
     "name": "stdout",
     "output_type": "stream",
     "text": [
      "[tensor([[[[0., 0., 0.,  ..., 0., 0., 0.],\n",
      "          [0., 0., 0.,  ..., 0., 0., 0.],\n",
      "          [0., 0., 0.,  ..., 0., 0., 0.],\n",
      "          ...,\n",
      "          [0., 0., 0.,  ..., 0., 0., 0.],\n",
      "          [0., 0., 0.,  ..., 0., 0., 0.],\n",
      "          [0., 0., 0.,  ..., 0., 0., 0.]]],\n",
      "\n",
      "\n",
      "        [[[0., 0., 0.,  ..., 0., 0., 0.],\n",
      "          [0., 0., 0.,  ..., 0., 0., 0.],\n",
      "          [0., 0., 0.,  ..., 0., 0., 0.],\n",
      "          ...,\n",
      "          [0., 0., 0.,  ..., 0., 0., 0.],\n",
      "          [0., 0., 0.,  ..., 0., 0., 0.],\n",
      "          [0., 0., 0.,  ..., 0., 0., 0.]]],\n",
      "\n",
      "\n",
      "        [[[0., 0., 0.,  ..., 0., 0., 0.],\n",
      "          [0., 0., 0.,  ..., 0., 0., 0.],\n",
      "          [0., 0., 0.,  ..., 0., 0., 0.],\n",
      "          ...,\n",
      "          [0., 0., 0.,  ..., 0., 0., 0.],\n",
      "          [0., 0., 0.,  ..., 0., 0., 0.],\n",
      "          [0., 0., 0.,  ..., 0., 0., 0.]]],\n",
      "\n",
      "\n",
      "        ...,\n",
      "\n",
      "\n",
      "        [[[0., 0., 0.,  ..., 0., 0., 0.],\n",
      "          [0., 0., 0.,  ..., 0., 0., 0.],\n",
      "          [0., 0., 0.,  ..., 0., 0., 0.],\n",
      "          ...,\n",
      "          [0., 0., 0.,  ..., 0., 0., 0.],\n",
      "          [0., 0., 0.,  ..., 0., 0., 0.],\n",
      "          [0., 0., 0.,  ..., 0., 0., 0.]]],\n",
      "\n",
      "\n",
      "        [[[0., 0., 0.,  ..., 0., 0., 0.],\n",
      "          [0., 0., 0.,  ..., 0., 0., 0.],\n",
      "          [0., 0., 0.,  ..., 0., 0., 0.],\n",
      "          ...,\n",
      "          [0., 0., 0.,  ..., 0., 0., 0.],\n",
      "          [0., 0., 0.,  ..., 0., 0., 0.],\n",
      "          [0., 0., 0.,  ..., 0., 0., 0.]]],\n",
      "\n",
      "\n",
      "        [[[0., 0., 0.,  ..., 0., 0., 0.],\n",
      "          [0., 0., 0.,  ..., 0., 0., 0.],\n",
      "          [0., 0., 0.,  ..., 0., 0., 0.],\n",
      "          ...,\n",
      "          [0., 0., 0.,  ..., 0., 0., 0.],\n",
      "          [0., 0., 0.,  ..., 0., 0., 0.],\n",
      "          [0., 0., 0.,  ..., 0., 0., 0.]]]]), tensor([1, 2, 2, 1, 8, 7, 7, 7, 6, 0])]\n"
     ]
    }
   ],
   "source": [
    "#iterate\n",
    "for data in trainset:\n",
    "    print(data)\n",
    "    break"
   ]
  },
  {
   "cell_type": "code",
   "execution_count": 14,
   "metadata": {},
   "outputs": [
    {
     "name": "stdout",
     "output_type": "stream",
     "text": [
      "tensor(8)\n"
     ]
    }
   ],
   "source": [
    "x, y = data[0][4], data[1][4]\n",
    "\n",
    "print(y)"
   ]
  },
  {
   "cell_type": "code",
   "execution_count": 16,
   "metadata": {},
   "outputs": [],
   "source": [
    "import matplotlib.pyplot as plt"
   ]
  },
  {
   "cell_type": "code",
   "execution_count": 18,
   "metadata": {},
   "outputs": [
    {
     "name": "stdout",
     "output_type": "stream",
     "text": [
      "torch.Size([1, 28, 28])\n"
     ]
    }
   ],
   "source": [
    "print(data[0][4].shape)"
   ]
  },
  {
   "cell_type": "code",
   "execution_count": 21,
   "metadata": {},
   "outputs": [
    {
     "data": {
      "text/plain": [
       "<matplotlib.image.AxesImage at 0x10c05a550>"
      ]
     },
     "execution_count": 21,
     "metadata": {},
     "output_type": "execute_result"
    },
    {
     "data": {
      "image/png": "[encoded data removed]",
      "text/plain": [
       "<Figure size 432x288 with 1 Axes>"
      ]
     },
     "metadata": {
      "needs_background": "light"
     },
     "output_type": "display_data"
    }
   ],
   "source": [
    "plt.imshow(data[0][5].view(28,28))"
   ]
  },
  {
   "cell_type": "code",
   "execution_count": 23,
   "metadata": {},
   "outputs": [
    {
     "name": "stdout",
     "output_type": "stream",
     "text": [
      "{0: 5923, 1: 6742, 2: 5958, 3: 6131, 4: 5842, 5: 5421, 6: 5918, 7: 6265, 8: 5851, 9: 5949}\n"
     ]
    }
   ],
   "source": [
    "#check balance of data\n",
    "total = 0\n",
    "counter_dict = {0:0,1:0,2:0,3:0,4:0,5:0,6:0,7:0,8:0,9:0}\n",
    "for data in trainset:\n",
    "    Xs, ys = data\n",
    "    for y in ys:\n",
    "        counter_dict[int(y)] += 1\n",
    "        total += 1\n",
    "\n",
    "print(counter_dict)"
   ]
  },
  {
   "cell_type": "code",
   "execution_count": 24,
   "metadata": {},
   "outputs": [
    {
     "name": "stdout",
     "output_type": "stream",
     "text": [
      "0: 9.871666666666666\n",
      "1: 11.236666666666666\n",
      "2: 9.93\n",
      "3: 10.218333333333334\n",
      "4: 9.736666666666666\n",
      "5: 9.035\n",
      "6: 9.863333333333333\n",
      "7: 10.441666666666666\n",
      "8: 9.751666666666667\n",
      "9: 9.915000000000001\n"
     ]
    }
   ],
   "source": [
    "for i in counter_dict:\n",
    "    print(f\"{i}: {counter_dict[i]/total*100}\")"
   ]
  },
  {
   "cell_type": "code",
   "execution_count": 25,
   "metadata": {},
   "outputs": [],
   "source": [
    "import torch.nn as nn\n",
    "import torch.nn.functional as F #you'll have to always parameters in function"
   ]
  },
  {
   "cell_type": "code",
   "execution_count": 28,
   "metadata": {},
   "outputs": [
    {
     "name": "stdout",
     "output_type": "stream",
     "text": [
      "Net(\n",
      "  (fc1): Linear(in_features=784, out_features=64, bias=True)\n",
      "  (fc2): Linear(in_features=64, out_features=64, bias=True)\n",
      "  (fc3): Linear(in_features=64, out_features=64, bias=True)\n",
      "  (fc4): Linear(in_features=64, out_features=10, bias=True)\n",
      ")\n"
     ]
    }
   ],
   "source": [
    "class Net(nn.Module):\n",
    "    \n",
    "    def __init__(self):\n",
    "        super().__init__() #initialize the parent class using super\n",
    "        self.fc1 = nn.Linear(28*28, 64)\n",
    "        self.fc2 = nn.Linear(64, 64)\n",
    "        self.fc3 = nn.Linear(64, 64)\n",
    "        self.fc4 = nn.Linear(64, 10) #final output will be equal to number of classes\n",
    "    \n",
    "    def forward(self, x): #defines how the data will flow through the network\n",
    "        x = F.relu(self.fc1(x)) #tells if the neuron is firing or not (value between 0-1)\n",
    "        x = F.relu(self.fc2(x))\n",
    "        x = F.relu(self.fc3(x))\n",
    "        x = self.fc4(x)\n",
    "        \n",
    "        return F.log_softmax(x, dim = 1) #log softmax will give us probability distribution\n",
    "\n",
    "net = Net()\n",
    "print(net)"
   ]
  },
  {
   "cell_type": "code",
   "execution_count": 29,
   "metadata": {},
   "outputs": [
    {
     "data": {
      "text/plain": [
       "tensor([[0.0098, 0.2941, 0.3528, 0.1466, 0.3002, 0.0163, 0.4673, 0.9709, 0.2884,\n",
       "         0.9012, 0.2445, 0.5313, 0.4748, 0.3627, 0.3412, 0.7369, 0.9975, 0.0184,\n",
       "         0.1742, 0.5723, 0.5118, 0.9312, 0.5136, 0.7099, 0.8388, 0.1823, 0.0623,\n",
       "         0.6783],\n",
       "        [0.1752, 0.9895, 0.8069, 0.5180, 0.8805, 0.2260, 0.9596, 0.3437, 0.4300,\n",
       "         0.2909, 0.9095, 0.5705, 0.2284, 0.5020, 0.5313, 0.2017, 0.9862, 0.5391,\n",
       "         0.3112, 0.1813, 0.5322, 0.3014, 0.3203, 0.1452, 0.8551, 0.2437, 0.3650,\n",
       "         0.9748],\n",
       "        [0.5293, 0.0657, 0.8641, 0.5029, 0.1853, 0.3283, 0.0529, 0.8610, 0.7077,\n",
       "         0.7729, 0.8558, 0.9478, 0.0654, 0.5087, 0.6108, 0.2821, 0.0462, 0.4402,\n",
       "         0.1478, 0.5965, 0.3807, 0.7659, 0.7507, 0.8290, 0.6167, 0.6277, 0.1119,\n",
       "         0.2441],\n",
       "        [0.7953, 0.1342, 0.8838, 0.5232, 0.8684, 0.9617, 0.6607, 0.7962, 0.3779,\n",
       "         0.5362, 0.0611, 0.0535, 0.8445, 0.9776, 0.9608, 0.2462, 0.9608, 0.4063,\n",
       "         0.6109, 0.3152, 0.7175, 0.8365, 0.9794, 0.3690, 0.2469, 0.6974, 0.8714,\n",
       "         0.9373],\n",
       "        [0.9411, 0.3888, 0.6196, 0.8046, 0.8760, 0.9046, 0.3740, 0.1897, 0.5870,\n",
       "         0.5435, 0.8730, 0.1238, 0.6750, 0.6954, 0.0066, 0.1248, 0.7815, 0.1443,\n",
       "         0.1178, 0.5725, 0.7544, 0.0951, 0.2124, 0.6303, 0.7260, 0.5990, 0.4326,\n",
       "         0.4698],\n",
       "        [0.0197, 0.4586, 0.6753, 0.1986, 0.4772, 0.9899, 0.8832, 0.2909, 0.1190,\n",
       "         0.7389, 0.1692, 0.6098, 0.6113, 0.1194, 0.0603, 0.7942, 0.9590, 0.2949,\n",
       "         0.6980, 0.3149, 0.6066, 0.9151, 0.9221, 0.2325, 0.5786, 0.5059, 0.6713,\n",
       "         0.9557],\n",
       "        [0.8991, 0.7553, 0.6739, 0.0071, 0.1542, 0.8046, 0.8658, 0.0415, 0.4493,\n",
       "         0.9066, 0.5877, 0.4951, 0.9507, 0.7048, 0.8390, 0.6896, 0.2345, 0.4415,\n",
       "         0.9912, 0.4091, 0.6972, 0.4192, 0.0016, 0.7531, 0.3045, 0.6961, 0.2502,\n",
       "         0.4143],\n",
       "        [0.3469, 0.4228, 0.1052, 0.2805, 0.8483, 0.8685, 0.3597, 0.9080, 0.6381,\n",
       "         0.0477, 0.9005, 0.7764, 0.9575, 0.0041, 0.9053, 0.9637, 0.5512, 0.8062,\n",
       "         0.7089, 0.0735, 0.9177, 0.6170, 0.8622, 0.6747, 0.5506, 0.1516, 0.0248,\n",
       "         0.8114],\n",
       "        [0.4220, 0.7034, 0.2108, 0.1571, 0.4407, 0.0800, 0.5780, 0.4753, 0.6816,\n",
       "         0.3401, 0.7916, 0.3079, 0.6757, 0.9961, 0.9940, 0.8545, 0.8505, 0.4430,\n",
       "         0.5590, 0.7345, 0.8330, 0.7819, 0.6625, 0.7029, 0.2279, 0.3456, 0.8904,\n",
       "         0.4017],\n",
       "        [0.0831, 0.2510, 0.8881, 0.3808, 0.4984, 0.8677, 0.5921, 0.0992, 0.5343,\n",
       "         0.6899, 0.5998, 0.3901, 0.8213, 0.8841, 0.0113, 0.7430, 0.9629, 0.1608,\n",
       "         0.2630, 0.7271, 0.6890, 0.0243, 0.9102, 0.1315, 0.3438, 0.2439, 0.3278,\n",
       "         0.7152],\n",
       "        [0.3411, 0.0957, 0.2809, 0.9705, 0.7820, 0.6669, 0.9927, 0.3337, 0.8425,\n",
       "         0.4151, 0.6095, 0.0870, 0.9852, 0.7779, 0.3404, 0.9269, 0.9255, 0.0176,\n",
       "         0.5530, 0.9872, 0.3460, 0.3780, 0.1984, 0.9308, 0.2875, 0.7381, 0.2640,\n",
       "         0.3436],\n",
       "        [0.3649, 0.1603, 0.2130, 0.8484, 0.7497, 0.3062, 0.3686, 0.7663, 0.6046,\n",
       "         0.0713, 0.5886, 0.4837, 0.8194, 0.0760, 0.9811, 0.6543, 0.2152, 0.7206,\n",
       "         0.5295, 0.6918, 0.0321, 0.4832, 0.1114, 0.3174, 0.9041, 0.2859, 0.3646,\n",
       "         0.1394],\n",
       "        [0.1830, 0.5146, 0.8269, 0.8518, 0.6843, 0.7766, 0.8937, 0.9750, 0.3765,\n",
       "         0.6177, 0.2560, 0.1431, 0.0477, 0.9476, 0.4581, 0.3469, 0.9936, 0.0012,\n",
       "         0.2774, 0.1944, 0.6723, 0.2392, 0.7723, 0.1353, 0.9836, 0.7909, 0.5068,\n",
       "         0.6513],\n",
       "        [0.9308, 0.5293, 0.1746, 0.9208, 0.9533, 0.6644, 0.3366, 0.3138, 0.9535,\n",
       "         0.5231, 0.3015, 0.4470, 0.9522, 0.1420, 0.9679, 0.3998, 0.0952, 0.0185,\n",
       "         0.2205, 0.4491, 0.2920, 0.1379, 0.4017, 0.4469, 0.8662, 0.2439, 0.2291,\n",
       "         0.9474],\n",
       "        [0.8336, 0.8618, 0.3075, 0.8395, 0.5116, 0.2850, 0.2599, 0.1676, 0.8307,\n",
       "         0.7186, 0.5550, 0.8273, 0.4210, 0.4687, 0.6552, 0.9510, 0.1576, 0.5572,\n",
       "         0.7119, 0.4856, 0.8525, 0.5810, 0.8015, 0.2242, 0.7555, 0.5878, 0.3705,\n",
       "         0.4371],\n",
       "        [0.3725, 0.7328, 0.6597, 0.1955, 0.6075, 0.8829, 0.7383, 0.4269, 0.7595,\n",
       "         0.0654, 0.7974, 0.7367, 0.3419, 0.7643, 0.0469, 0.4064, 0.0386, 0.9490,\n",
       "         0.3036, 0.6619, 0.7522, 0.2302, 0.2994, 0.6917, 0.1804, 0.3957, 0.5878,\n",
       "         0.2192],\n",
       "        [0.7996, 0.2083, 0.1865, 0.6309, 0.7401, 0.8912, 0.7433, 0.0732, 0.1759,\n",
       "         0.8991, 0.6787, 0.9540, 0.0697, 0.5392, 0.2538, 0.1302, 0.3691, 0.5916,\n",
       "         0.1487, 0.2370, 0.5383, 0.8190, 0.4975, 0.0493, 0.4594, 0.0307, 0.3840,\n",
       "         0.1597],\n",
       "        [0.6647, 0.5260, 0.3961, 0.2709, 0.0988, 0.4460, 0.3591, 0.3297, 0.4122,\n",
       "         0.3550, 0.2782, 0.1647, 0.3192, 0.1848, 0.7640, 0.4417, 0.0621, 0.6155,\n",
       "         0.4427, 0.6372, 0.7268, 0.3411, 0.7592, 0.7062, 0.9713, 0.5753, 0.3414,\n",
       "         0.2501],\n",
       "        [0.6307, 0.1836, 0.0132, 0.4384, 0.6504, 0.7942, 0.7204, 0.1778, 0.6669,\n",
       "         0.7931, 0.1064, 0.6147, 0.5705, 0.3770, 0.0519, 0.7258, 0.7076, 0.4569,\n",
       "         0.5999, 0.6819, 0.3924, 0.2604, 0.9867, 0.3992, 0.2260, 0.9826, 0.3601,\n",
       "         0.0550],\n",
       "        [0.4869, 0.1512, 0.1617, 0.1789, 0.7225, 0.3893, 0.9789, 0.8898, 0.5976,\n",
       "         0.1228, 0.7453, 0.4627, 0.3858, 0.8555, 0.2360, 0.1414, 0.0045, 0.4793,\n",
       "         0.4654, 0.7182, 0.5731, 0.2633, 0.9695, 0.9549, 0.1838, 0.1415, 0.5419,\n",
       "         0.0198],\n",
       "        [0.2311, 0.4807, 0.2354, 0.0361, 0.7452, 0.3780, 0.0993, 0.6226, 0.0077,\n",
       "         0.9531, 0.3187, 0.7212, 0.1087, 0.9541, 0.6940, 0.9312, 0.6371, 0.2902,\n",
       "         0.0073, 0.0942, 0.7916, 0.9012, 0.2223, 0.3755, 0.7726, 0.7521, 0.5751,\n",
       "         0.3470],\n",
       "        [0.4909, 0.3087, 0.6782, 0.9514, 0.6510, 0.7938, 0.7357, 0.5697, 0.2418,\n",
       "         0.0687, 0.5009, 0.6591, 0.8034, 0.5512, 0.7291, 0.5066, 0.0274, 0.6824,\n",
       "         0.0997, 0.4291, 0.6287, 0.4736, 0.5708, 0.6759, 0.1634, 0.8349, 0.6852,\n",
       "         0.0540],\n",
       "        [0.0225, 0.7816, 0.2045, 0.3805, 0.0527, 0.4034, 0.2893, 0.4434, 0.3188,\n",
       "         0.7247, 0.3877, 0.1372, 0.5862, 0.3933, 0.6877, 0.5828, 0.6994, 0.6912,\n",
       "         0.0524, 0.8284, 0.0125, 0.5744, 0.3609, 0.2331, 0.8637, 0.5043, 0.4097,\n",
       "         0.2453],\n",
       "        [0.6949, 0.2229, 0.9745, 0.8159, 0.5077, 0.5958, 0.0895, 0.4593, 0.9936,\n",
       "         0.8385, 0.0566, 0.7521, 0.7143, 0.1560, 0.3616, 0.1292, 0.7820, 0.8971,\n",
       "         0.3124, 0.5601, 0.8133, 0.6319, 0.4357, 0.2347, 0.6329, 0.2914, 0.8360,\n",
       "         0.6592],\n",
       "        [0.5036, 0.1590, 0.6730, 0.4142, 0.6993, 0.5138, 0.2855, 0.4532, 0.8879,\n",
       "         0.0920, 0.5236, 0.7503, 0.4589, 0.4354, 0.4004, 0.3042, 0.6322, 0.0392,\n",
       "         0.4166, 0.8360, 0.4931, 0.6054, 0.5588, 0.8266, 0.0962, 0.1267, 0.2287,\n",
       "         0.6665],\n",
       "        [0.0415, 0.6959, 0.6087, 0.0172, 0.1383, 0.9521, 0.6883, 0.7074, 0.2323,\n",
       "         0.1405, 0.6871, 0.4768, 0.3123, 0.8131, 0.3853, 0.0662, 0.5122, 0.3854,\n",
       "         0.6601, 0.4575, 0.5927, 0.3764, 0.1348, 0.8381, 0.4169, 0.3602, 0.5595,\n",
       "         0.0344],\n",
       "        [0.3214, 0.6391, 0.8735, 0.5062, 0.4325, 0.7646, 0.9659, 0.6269, 0.1394,\n",
       "         0.0210, 0.0344, 0.6199, 0.8055, 0.3382, 0.8895, 0.7550, 0.7423, 0.4822,\n",
       "         0.5524, 0.8662, 0.7838, 0.9026, 0.3042, 0.7452, 0.7336, 0.7192, 0.0598,\n",
       "         0.4775],\n",
       "        [0.3752, 0.5760, 0.5755, 0.0216, 0.1130, 0.4399, 0.1265, 0.2063, 0.5839,\n",
       "         0.7759, 0.5310, 0.0047, 0.5932, 0.4144, 0.5201, 0.6224, 0.3713, 0.6178,\n",
       "         0.5670, 0.6255, 0.3209, 0.8490, 0.0051, 0.3716, 0.6974, 0.0197, 0.8797,\n",
       "         0.0438]])"
      ]
     },
     "execution_count": 29,
     "metadata": {},
     "output_type": "execute_result"
    }
   ],
   "source": [
    "X = torch.rand((28,28))\n",
    "X = X.view(-1, 28*28) #-1 specifies the batch can be of any size, else you specfiy the batch size\n"
   ]
  },
  {
   "cell_type": "code",
   "execution_count": 31,
   "metadata": {},
   "outputs": [
    {
     "name": "stdout",
     "output_type": "stream",
     "text": [
      "loss tensor(0.0118, grad_fn=<NllLossBackward>)\n",
      "loss tensor(0.0095, grad_fn=<NllLossBackward>)\n",
      "loss tensor(0.3851, grad_fn=<NllLossBackward>)\n"
     ]
    }
   ],
   "source": [
    "import torch.optim as optim\n",
    "optimizer = optim.Adam(net.parameters(), lr = 0.001) #net.parameters correspond to all things that are adjustable\n",
    "#learning ratedecides size of the step, decaying learning rate is helpful\n",
    "\n",
    "EPOCHS = 3 #number of whole passes\n",
    "for epoch in range(EPOCHS):\n",
    "    for data in trainset:\n",
    "        #data is a batch of features and labels\n",
    "        X, y = data\n",
    "        net.zero_grad()\n",
    "        output = net(X.view(-1, 28*28))\n",
    "        loss = F.nll_loss(output,y) #if data is not a one hot vector, then use nll_loss, else use mean squared error\n",
    "        loss.backward() #backpropagate loss\n",
    "        optimizer.step()\n",
    "    print('loss',loss)\n",
    "        "
   ]
  },
  {
   "cell_type": "code",
   "execution_count": 32,
   "metadata": {},
   "outputs": [
    {
     "name": "stdout",
     "output_type": "stream",
     "text": [
      "accuracy: 0.979\n"
     ]
    }
   ],
   "source": [
    "correct = 0\n",
    "total = 0\n",
    "with torch.no_grad():\n",
    "    for data in trainset:\n",
    "        X, y = data\n",
    "        output = net(X.view(-1,28*28))\n",
    "        for idx, i in enumerate(output):\n",
    "            if torch.argmax(i) == y[idx]:\n",
    "                correct += 1\n",
    "            total += 1\n",
    "print(\"accuracy:\", round(correct/total,3))"
   ]
  },
  {
   "cell_type": "code",
   "execution_count": 36,
   "metadata": {},
   "outputs": [
    {
     "data": {
      "image/png": "[encoded data removed]",
      "text/plain": [
       "<Figure size 432x288 with 1 Axes>"
      ]
     },
     "metadata": {
      "needs_background": "light"
     },
     "output_type": "display_data"
    }
   ],
   "source": [
    "import matplotlib.pyplot as plt\n",
    "plt.imshow(X[3].view(28,28))\n",
    "plt.show()"
   ]
  },
  {
   "cell_type": "code",
   "execution_count": 37,
   "metadata": {},
   "outputs": [
    {
     "name": "stdout",
     "output_type": "stream",
     "text": [
      "tensor(7, grad_fn=<NotImplemented>)\n"
     ]
    }
   ],
   "source": [
    "print(torch.argmax(net(X[3].view(-1,784))[0]))"
   ]
  },
  {
   "cell_type": "code",
   "execution_count": null,
   "metadata": {},
   "outputs": [],
   "source": []
  }
 ],
 "metadata": {
  "kernelspec": {
   "display_name": "Python 3",
   "language": "python",
   "name": "python3"
  },
  "language_info": {
   "codemirror_mode": {
    "name": "ipython",
    "version": 3
   },
   "file_extension": ".py",
   "mimetype": "text/x-python",
   "name": "python",
   "nbconvert_exporter": "python",
   "pygments_lexer": "ipython3",
   "version": "3.7.3"
  }
 },
 "nbformat": 4,
 "nbformat_minor": 4
}
